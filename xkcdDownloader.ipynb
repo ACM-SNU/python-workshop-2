{
 "cells": [
  {
   "cell_type": "code",
   "execution_count": 5,
   "metadata": {
    "collapsed": false
   },
   "outputs": [],
   "source": [
    "import requests, os, bs4, re\n",
    "from IPython.display import Image\n"
   ]
  },
  {
   "cell_type": "code",
   "execution_count": 12,
   "metadata": {
    "collapsed": false
   },
   "outputs": [
    {
     "name": "stdout",
     "output_type": "stream",
     "text": [
      "Enter number of comics: 3\n",
      "Downloading page http://xkcd.com...\n",
      "Downloading the image http://imgs.xkcd.com/comics/earth_temperature_timeline.png...\n",
      "Downloading page http://xkcd.com/1731/...\n",
      "Downloading the image http://imgs.xkcd.com/comics/wrong.png...\n",
      "Downloading page http://xkcd.com/1730/...\n",
      "Downloading the image http://imgs.xkcd.com/comics/starshade.png...\n",
      "Done.\n"
     ]
    }
   ],
   "source": [
    "\n",
    "# Starting url\n",
    "url = 'http://xkcd.com'\n",
    "# Store comics in ./xkcd\n",
    "# makedirs() ensures the folder exists\n",
    "# exist_ok=True prevents function from throwing exception if folder already exists\n",
    "# Python3: os.makedirs('xkcd', exist_ok=True)\n",
    "os.makedirs('xkcd' ,exist_ok = True)\n",
    "\n",
    "last_comic = 1732 - int(input(\"Enter number of comics: \"))\n",
    "# End loop when url ends with '#'\n",
    "while not url.endswith(str(last_comic)+'/'):\n",
    "    # Download the page\n",
    "    print ('Downloading page %s...'% url)\n",
    "    res = requests.get(url)\n",
    "    res.raise_for_status()\n",
    "    \n",
    "    soup = bs4.BeautifulSoup(res.text, 'html.parser')\n",
    "\n",
    "    # Find the URL of the comic image\n",
    "    # <div id=\"comic\"><img src=\"\"></div>\n",
    "    comicElem = soup.select('#comic img')\n",
    "    if comicElem == []:\n",
    "        print ('Could not find comic image.')\n",
    "    else:\n",
    "        # Create regex to parse url below the comic (remember to escape the parentheses)\n",
    "        pattern = re.compile(r'Image URL \\(for hotlinking/embedding\\): (.*)')\n",
    "        # Pass pattern to BeautifulSoup's find() method\n",
    "        comicUrl = soup.find(text=pattern)\n",
    "        # Substitute with r'\\1', the first group in parentheses: (.*)\n",
    "        # Use strip to remove whitespace\n",
    "        comicUrl = pattern.sub(r'\\1', comicUrl).strip()\n",
    "        # Download the image\n",
    "        print ('Downloading the image %s...'% comicUrl)\n",
    "        Image(url= comicUrl)\n",
    "\n",
    "        res = requests.get(comicUrl)\n",
    "        res.raise_for_status()\n",
    "\n",
    "        # Save the image to ./xkcd\n",
    "        # comicUrl example: http://imgs.xkcd.com/comics/heartbleed_explanation.png\n",
    "        # call os.path.basename() on it to return the last part of the url:\n",
    "        # heartbleed_explanation.png (can use this as the filename of image when saving)\n",
    "        # join() so program uses backslashes on Windows and forward clashes on OS X and Linux\n",
    "        # call open() to open a new file in 'wb' \"write binary\" mode\n",
    "        # to save downloaded files using Requests, loop over return value of the iter_content()\n",
    "        # for loop writes chunks of the image data (max 100,000 bytes each) to the file\n",
    "        # then close the file, the image is now saved your hard drive\n",
    "        imageFile = open(os.path.join('xkcd', os.path.basename(comicUrl)), 'wb')\n",
    "        for chunk in res.iter_content(100000):\n",
    "            imageFile.write(chunk)\n",
    "        imageFile.close()\n",
    "\n",
    "    # Get the Prev button's url\n",
    "    # while loop begins the entire download process again for this comic\n",
    "    prevLink = soup.select('a[rel=\"prev\"]')[0]\n",
    "    url = 'http://xkcd.com' + prevLink.get('href')\n",
    "\n",
    "print ('Done.')"
   ]
  },
  {
   "cell_type": "code",
   "execution_count": null,
   "metadata": {
    "collapsed": true
   },
   "outputs": [],
   "source": []
  }
 ],
 "metadata": {
  "anaconda-cloud": {},
  "kernelspec": {
   "display_name": "Python [Root]",
   "language": "python",
   "name": "Python [Root]"
  },
  "language_info": {
   "codemirror_mode": {
    "name": "ipython",
    "version": 3
   },
   "file_extension": ".py",
   "mimetype": "text/x-python",
   "name": "python",
   "nbconvert_exporter": "python",
   "pygments_lexer": "ipython3",
   "version": "3.5.2"
  }
 },
 "nbformat": 4,
 "nbformat_minor": 0
}
